{
 "cells": [
  {
   "cell_type": "code",
   "execution_count": 1,
   "metadata": {},
   "outputs": [],
   "source": [
    "import pandas as pd"
   ]
  },
  {
   "cell_type": "code",
   "execution_count": 2,
   "metadata": {},
   "outputs": [],
   "source": [
    "cities_df = pd.read_csv(\"cities.csv\")\n",
    "cities_df.to_html('table.html', index=False, classes = ['table', 'table-striped', 'table-hover'])"
   ]
  },
  {
   "cell_type": "code",
   "execution_count": 6,
   "metadata": {},
   "outputs": [
    {
     "data": {
      "text/plain": [
       "<bound method DataFrame.to_html of               City Country                 Date  Latitude  Longitude  \\\n",
       "0           barrow      US  2021-10-06 10:06:01   71.2906  -156.7887   \n",
       "1           albany      US  2021-10-06 10:06:01   42.6001   -73.9662   \n",
       "2       bredasdorp      ZA  2021-10-06 10:06:02  -34.5322    20.0403   \n",
       "3           burica     NaN                  NaN       NaN        NaN   \n",
       "4           atuona      PF  2021-10-06 10:06:02   -9.8000  -139.0333   \n",
       "..             ...     ...                  ...       ...        ...   \n",
       "609         warman      CA  2021-10-06 10:09:48   52.3168  -106.5679   \n",
       "610         bargal     NaN                  NaN       NaN        NaN   \n",
       "611  krasnaya gora      RU  2021-10-06 10:09:49   52.9995    31.6023   \n",
       "612           bara      NG  2021-10-06 10:09:49   10.3744    10.7288   \n",
       "613          tarut      SA  2021-10-06 10:09:50   26.5733    50.0369   \n",
       "\n",
       "     Cloudiness (%)  Humidity (%)  Max Temp (F)  Wind Speed (mph)  \n",
       "0              90.0          86.0        30.488              6.69  \n",
       "1              19.0          92.0        65.588              0.45  \n",
       "2               0.0          67.0        70.556              8.05  \n",
       "3               NaN           NaN           NaN               NaN  \n",
       "4              88.0          79.0        78.602             10.75  \n",
       "..              ...           ...           ...               ...  \n",
       "609           100.0          29.0        62.618              3.49  \n",
       "610             NaN           NaN           NaN               NaN  \n",
       "611            60.0          64.0        57.380              4.44  \n",
       "612            83.0          32.0        95.594              0.45  \n",
       "613             6.0          55.0        90.086              4.10  \n",
       "\n",
       "[614 rows x 9 columns]>"
      ]
     },
     "execution_count": 6,
     "metadata": {},
     "output_type": "execute_result"
    }
   ],
   "source": [
    "cities_df.to_html"
   ]
  },
  {
   "cell_type": "code",
   "execution_count": null,
   "metadata": {},
   "outputs": [],
   "source": []
  }
 ],
 "metadata": {
  "kernelspec": {
   "display_name": "Python 3",
   "language": "python",
   "name": "python3"
  },
  "language_info": {
   "codemirror_mode": {
    "name": "ipython",
    "version": 3
   },
   "file_extension": ".py",
   "mimetype": "text/x-python",
   "name": "python",
   "nbconvert_exporter": "python",
   "pygments_lexer": "ipython3",
   "version": "3.8.8"
  }
 },
 "nbformat": 4,
 "nbformat_minor": 2
}
